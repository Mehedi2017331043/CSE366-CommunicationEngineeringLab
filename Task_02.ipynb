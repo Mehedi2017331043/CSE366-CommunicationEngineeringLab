{
  "nbformat": 4,
  "nbformat_minor": 0,
  "metadata": {
    "colab": {
      "name": "Task#02.ipynb",
      "provenance": [],
      "collapsed_sections": []
    },
    "kernelspec": {
      "name": "python3",
      "display_name": "Python 3"
    },
    "language_info": {
      "name": "python"
    }
  },
  "cells": [
    {
      "cell_type": "markdown",
      "metadata": {
        "id": "oSd02_RdfupI"
      },
      "source": [
        "# **Simulate the Digital-Digital Conversion Techniques (Line Coding and Decoding Block Coding and Decoding Schemes)**\n",
        "\n",
        "\n",
        "---\n",
        "\n"
      ]
    },
    {
      "cell_type": "markdown",
      "metadata": {
        "id": "bIjOGsI3gEOm"
      },
      "source": [
        "\n",
        "\n",
        "> **<h3>Line Coding:**\n",
        "\n"
      ]
    },
    {
      "cell_type": "code",
      "metadata": {
        "colab": {
          "base_uri": "https://localhost:8080/",
          "height": 374
        },
        "id": "WkgfO3pIgm6w",
        "outputId": "3630da9d-244d-4ccc-e2b2-7828711ef83d"
      },
      "source": [
        "import numpy as np\n",
        "import matplotlib.pyplot as plt\n",
        "import math\n",
        "\n",
        "bits = np.array([1, 0, 1, 1, 0, 1, 0, 1, 1, 0, 1]) \n",
        "Time = 10e-6   \n",
        "bit_rate = 1/Time  \n",
        "Fs = 4*bit_rate    \n",
        "N = len(bits)   \n",
        "T = np.linspace(0,Time,100)\n",
        "\n",
        "x = np.array([])\n",
        "for i in range(N):\n",
        "  temp = bits[i]* np.ones(len(T))\n",
        "  x = np.append(x, temp)\n",
        "t = np.linspace(0,N*Time,len(x))\n",
        "\n",
        "plt.figure(figsize=(20,6))\n",
        "plt.plot(t, x,'b')\n",
        "plt.show()"
      ],
      "execution_count": null,
      "outputs": [
        {
          "output_type": "display_data",
          "data": {
            "image/png": "[encoded data removed]",
            "text/plain": [
              "<Figure size 1440x432 with 1 Axes>"
            ]
          },
          "metadata": {
            "needs_background": "light"
          }
        }
      ]
    },
    {
      "cell_type": "markdown",
      "metadata": {
        "id": "JAgzGHtHowv-"
      },
      "source": [
        "\n",
        "\n",
        ">  **<h4><center>Line Coding Encoding - Unipolar - Non Return to Zero(NRZ)**\n",
        "\n"
      ]
    },
    {
      "cell_type": "code",
      "metadata": {
        "colab": {
          "base_uri": "https://localhost:8080/"
        },
        "id": "euT-vUJZizAT",
        "outputId": "26f46fdf-b2a4-49b6-c07a-a8eef87dbedb"
      },
      "source": [
        "result = []\n",
        "counter = 0\n",
        "for i in range(len(t)):\n",
        "  if t[i]*bit_rate > counter:\n",
        "    counter = counter + 1\n",
        "    result.append(int(x[i]))\n",
        "\n",
        "print(result)"
      ],
      "execution_count": null,
      "outputs": [
        {
          "output_type": "stream",
          "name": "stdout",
          "text": [
            "[1, 0, 1, 1, 0, 1, 0, 1, 1, 0, 1]\n"
          ]
        }
      ]
    },
    {
      "cell_type": "markdown",
      "metadata": {
        "id": "VqsIeGwCo93i"
      },
      "source": [
        "**<h4><center>Line Coding Decoding - Unipolar - Non Return to Zero(NRZ)**"
      ]
    },
    {
      "cell_type": "markdown",
      "metadata": {
        "id": "iv7MVb0qi7p_"
      },
      "source": [
        "\n",
        "\n",
        "> **<h3>Block Coding:**\n",
        "\n"
      ]
    },
    {
      "cell_type": "code",
      "metadata": {
        "id": "1_hDmgZZkiMq"
      },
      "source": [
        "mB = 4\n",
        "nB = 5\n",
        "def get_Mapping_Codes(bits):\n",
        "  return block_coding_mapping_codes[\"\".join(map(str, bits))]\n",
        "  \n",
        "def get_MB_NB_Encoding(bits, mB, nB):\n",
        " \n",
        "  if len(bits) % mB != 0:\n",
        "  \n",
        "    extra_len = (((len(bits)// mB) + 1) * mB) - len(bits)\n",
        "    extra = np.array(np.zeros(extra_len), dtype=int)\n",
        "    bits = np.append(bits, extra)\n",
        "  \n",
        "  encoded_bits_str = \"\"\n",
        "  for i in range(0, len(bits), mB):\n",
        "    encoded_bits_str += get_Mapping_Codes(bits[i:i+mB])\n",
        "\n",
        "  encoded_bits_list = list(encoded_bits_str)\n",
        "  encoded_bits_map = map(int, encoded_bits_list)\n",
        "  encoded_bits = np.array(list(encoded_bits_map))\n",
        "  return encoded_bits\n",
        "\n",
        "def get_NB_MB_Decoding(bits, mB, nB):\n",
        "  if len(bits) % nB != 0:\n",
        "    print(\"Invalid length, Decoding Not possible!\")\n",
        "    return\n",
        "  decoded_bits_str = \"\"\n",
        "  for i in range(0, len(bits), nB):\n",
        "    decoded_bits_str += get_Mapping_Codes(bits[i:i+nB])\n",
        "  \n",
        "  decoded_bits_list = list(decoded_bits_str)\n",
        "  decoded_bits_map = map(int, decoded_bits_list)\n",
        "  decoded_bits = np.array(list(decoded_bits_map))\n",
        "  return decoded_bits"
      ],
      "execution_count": null,
      "outputs": []
    },
    {
      "cell_type": "markdown",
      "metadata": {
        "id": "DcC1MyBOpbKG"
      },
      "source": [
        "**<h4><center>Mapping Codes**"
      ]
    },
    {
      "cell_type": "code",
      "metadata": {
        "id": "8NIAb8lQpIdd"
      },
      "source": [
        "bits = np.array([1, 0, 1, 1, 0, 1, 0, 1, 1, 0, 1], dtype=int) \n",
        "bits = get_MB_NB_Encoding(bits, mB, nB)"
      ],
      "execution_count": null,
      "outputs": []
    },
    {
      "cell_type": "markdown",
      "metadata": {
        "id": "ovQH8fGhpRn7"
      },
      "source": [
        "**<h4><center>$4B/5B $  Encoding**"
      ]
    },
    {
      "cell_type": "code",
      "metadata": {
        "colab": {
          "base_uri": "https://localhost:8080/",
          "height": 374
        },
        "id": "mZLBg5msptxn",
        "outputId": "027fc5a6-d950-4e5c-d411-311b4a5578c3"
      },
      "source": [
        "Time = 10e-6   \n",
        "bit_rate = 1/Time  \n",
        "Fs = 4*bit_rate    \n",
        "N = len(bits)   \n",
        "T = np.linspace(0,Time, mB * 100)\n",
        "\n",
        "x = np.array([])\n",
        "last_bit = 1\n",
        "for i in range(N):\n",
        "  if bits[i] == 1:\n",
        "    temp = (-1) * last_bit * np.ones(len(T))\n",
        "    last_bit = -last_bit\n",
        "  else:\n",
        "    temp = last_bit * np.ones(len(T))\n",
        "  x = np.append(x, temp)\n",
        "t = np.linspace(0,N*Time,len(x))\n",
        "plt.figure(figsize=(20,6))\n",
        "plt.plot(t, x,'b')\n",
        "plt.show()"
      ],
      "execution_count": null,
      "outputs": [
        {
          "output_type": "display_data",
          "data": {
            "image/png": "[encoded data removed]",
            "text/plain": [
              "<Figure size 1440x432 with 1 Axes>"
            ]
          },
          "metadata": {
            "needs_background": "light"
          }
        }
      ]
    },
    {
      "cell_type": "markdown",
      "metadata": {
        "id": "ieiGOsCTpygZ"
      },
      "source": [
        "**<center><h4>$NRZ-I$ Line Coding Encoding**"
      ]
    },
    {
      "cell_type": "code",
      "metadata": {
        "colab": {
          "base_uri": "https://localhost:8080/"
        },
        "id": "npLnTJxAp-5X",
        "outputId": "e2887898-f149-4f65-89ac-0e0dbd58ba88"
      },
      "source": [
        "result = []\n",
        "counter = 0\n",
        "last_bit = 1\n",
        "for i in range(len(t)):\n",
        "  if t[i]*bit_rate > counter:\n",
        "    counter = counter + 1\n",
        "    if x[i] != last_bit:\n",
        "      result.append(1)\n",
        "      last_bit=-last_bit\n",
        "    else:\n",
        "      result.append(0)\n",
        "\n",
        "print(result)"
      ],
      "execution_count": null,
      "outputs": [
        {
          "output_type": "stream",
          "name": "stdout",
          "text": [
            "[1, 0, 1, 1, 1, 0, 1, 0, 1, 1, 1, 0, 1, 1, 0]\n"
          ]
        }
      ]
    },
    {
      "cell_type": "markdown",
      "metadata": {
        "id": "BC-88XJLqA3X"
      },
      "source": [
        "**<center><h4>$NRZ-I$ Line Coding Decoding**"
      ]
    },
    {
      "cell_type": "code",
      "metadata": {
        "colab": {
          "base_uri": "https://localhost:8080/"
        },
        "id": "PYcHsjPMqN-V",
        "outputId": "5276e517-2111-4b67-a08c-847aa5ec97fe"
      },
      "source": [
        "decoded_result = get_NB_MB_Decoding(result, mB, nB)\n",
        "print(decoded_result)"
      ],
      "execution_count": null,
      "outputs": [
        {
          "output_type": "stream",
          "name": "stdout",
          "text": [
            "[1 0 1 1 0 1 0 1 1 0 1 0]\n"
          ]
        }
      ]
    },
    {
      "cell_type": "markdown",
      "metadata": {
        "id": "gtpsaoGHqPf3"
      },
      "source": [
        "**<h4><center>$4B/5B $  Decoding**"
      ]
    }
  ]
}